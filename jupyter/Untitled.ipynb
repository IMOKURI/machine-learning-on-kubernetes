{
 "cells": [
  {
   "cell_type": "code",
   "execution_count": 1,
   "id": "373fa266",
   "metadata": {},
   "outputs": [],
   "source": [
    "import numpy as np"
   ]
  },
  {
   "cell_type": "code",
   "execution_count": 2,
   "id": "fba9a568",
   "metadata": {},
   "outputs": [],
   "source": [
    "a = np.array([1,2,3])"
   ]
  },
  {
   "cell_type": "code",
   "execution_count": 3,
   "id": "e033af67",
   "metadata": {},
   "outputs": [
    {
     "data": {
      "text/plain": [
       "array([1, 2, 3])"
      ]
     },
     "execution_count": 3,
     "metadata": {},
     "output_type": "execute_result"
    }
   ],
   "source": [
    "a"
   ]
  },
  {
   "cell_type": "code",
   "execution_count": 4,
   "id": "38ebfaf0",
   "metadata": {},
   "outputs": [
    {
     "data": {
      "text/plain": [
       "numpy.ndarray"
      ]
     },
     "execution_count": 4,
     "metadata": {},
     "output_type": "execute_result"
    }
   ],
   "source": [
    "type(a)"
   ]
  },
  {
   "cell_type": "code",
   "execution_count": 5,
   "id": "3115df82",
   "metadata": {},
   "outputs": [
    {
     "name": "stdout",
     "output_type": "stream",
     "text": [
      "uid=1000(jovyan) gid=100(users) groups=100(users)\r\n"
     ]
    }
   ],
   "source": [
    "!id"
   ]
  },
  {
   "cell_type": "code",
   "execution_count": 6,
   "id": "cf9044c5",
   "metadata": {},
   "outputs": [
    {
     "name": "stdout",
     "output_type": "stream",
     "text": [
      "Fri Nov 26 13:00:38 2021       \n",
      "+-----------------------------------------------------------------------------+\n",
      "| NVIDIA-SMI 470.82.00    Driver Version: 470.82.00    CUDA Version: 11.4     |\n",
      "|-------------------------------+----------------------+----------------------+\n",
      "| GPU  Name        Persistence-M| Bus-Id        Disp.A | Volatile Uncorr. ECC |\n",
      "| Fan  Temp  Perf  Pwr:Usage/Cap|         Memory-Usage | GPU-Util  Compute M. |\n",
      "|                               |                      |               MIG M. |\n",
      "|===============================+======================+======================|\n",
      "|   0  Tesla V100-SXM2...  Off  | 00000000:16:00.0 Off |                    0 |\n",
      "| N/A   29C    P0    38W / 300W |      0MiB / 16160MiB |      0%      Default |\n",
      "|                               |                      |                  N/A |\n",
      "+-------------------------------+----------------------+----------------------+\n",
      "|   1  Tesla V100-SXM2...  Off  | 00000000:3A:00.0 Off |                    0 |\n",
      "| N/A   28C    P0    37W / 300W |      0MiB / 16160MiB |      0%      Default |\n",
      "|                               |                      |                  N/A |\n",
      "+-------------------------------+----------------------+----------------------+\n",
      "|   2  Tesla V100-SXM2...  Off  | 00000000:3B:00.0 Off |                    0 |\n",
      "| N/A   30C    P0    40W / 300W |      0MiB / 16160MiB |      0%      Default |\n",
      "|                               |                      |                  N/A |\n",
      "+-------------------------------+----------------------+----------------------+\n",
      "                                                                               \n",
      "+-----------------------------------------------------------------------------+\n",
      "| Processes:                                                                  |\n",
      "|  GPU   GI   CI        PID   Type   Process name                  GPU Memory |\n",
      "|        ID   ID                                                   Usage      |\n",
      "|=============================================================================|\n",
      "|  No running processes found                                                 |\n",
      "+-----------------------------------------------------------------------------+\n"
     ]
    }
   ],
   "source": [
    "!nvidia-smi"
   ]
  },
  {
   "cell_type": "code",
   "execution_count": 7,
   "id": "af16ba01",
   "metadata": {},
   "outputs": [],
   "source": [
    "import torch"
   ]
  },
  {
   "cell_type": "code",
   "execution_count": 8,
   "id": "57648909",
   "metadata": {},
   "outputs": [],
   "source": [
    "device = torch.device(\"cuda\" if torch.cuda.is_available() else \"cpu\")"
   ]
  },
  {
   "cell_type": "code",
   "execution_count": 10,
   "id": "1ca4ba07",
   "metadata": {},
   "outputs": [
    {
     "name": "stdout",
     "output_type": "stream",
     "text": [
      "torch device: cuda, device count: 3, CUDA version: 10.2\n"
     ]
    }
   ],
   "source": [
    "print(f\"torch device: {device}, device count: {torch.cuda.device_count()}, CUDA version: {torch.version.cuda}\")"
   ]
  },
  {
   "cell_type": "code",
   "execution_count": 11,
   "id": "96e25bc2",
   "metadata": {},
   "outputs": [
    {
     "name": "stdout",
     "output_type": "stream",
     "text": [
      "Package                       Version\r\n",
      "----------------------------- ---------\r\n",
      "albumentations                0.4.6\r\n",
      "alembic                       1.4.1\r\n",
      "altair                        4.1.0\r\n",
      "antlr4-python3-runtime        4.8\r\n",
      "anyio                         3.3.4\r\n",
      "appdirs                       1.4.4\r\n",
      "argon2-cffi                   21.1.0\r\n",
      "async-generator               1.10\r\n",
      "attrs                         21.2.0\r\n",
      "autopage                      0.4.0\r\n",
      "Babel                         2.9.1\r\n",
      "backcall                      0.2.0\r\n",
      "backports.functools-lru-cache 1.6.4\r\n",
      "beautifulsoup4                4.10.0\r\n",
      "bleach                        4.1.0\r\n",
      "blinker                       1.4\r\n",
      "bokeh                         2.4.1\r\n",
      "Bottleneck                    1.3.2\r\n",
      "brotlipy                      0.7.0\r\n",
      "cached-property               1.5.2\r\n",
      "certifi                       2021.10.8\r\n",
      "certipy                       0.1.3\r\n",
      "cffi                          1.15.0\r\n",
      "chardet                       4.0.0\r\n",
      "charset-normalizer            2.0.0\r\n",
      "click                         8.0.3\r\n",
      "cliff                         3.10.0\r\n",
      "cloudpickle                   2.0.0\r\n",
      "cmaes                         0.8.2\r\n",
      "cmd2                          2.3.2\r\n",
      "colorama                      0.4.4\r\n",
      "colorlog                      6.6.0\r\n",
      "conda                         4.10.3\r\n",
      "conda-package-handling        1.7.3\r\n",
      "configparser                  5.1.0\r\n",
      "cryptography                  35.0.0\r\n",
      "cycler                        0.11.0\r\n",
      "Cython                        0.29.24\r\n",
      "cytoolz                       0.11.2\r\n",
      "dask                          2021.11.1\r\n",
      "databricks-cli                0.16.2\r\n",
      "debugpy                       1.5.1\r\n",
      "decorator                     5.1.0\r\n",
      "defusedxml                    0.7.1\r\n",
      "dill                          0.3.4\r\n",
      "distributed                   2021.11.1\r\n",
      "docker                        5.0.3\r\n",
      "docker-pycreds                0.4.0\r\n",
      "entrypoints                   0.3\r\n",
      "Flask                         2.0.2\r\n",
      "fsspec                        2021.11.0\r\n",
      "gitdb                         4.0.9\r\n",
      "GitPython                     3.1.24\r\n",
      "gmpy2                         2.1.0rc1\r\n",
      "greenlet                      1.1.2\r\n",
      "gunicorn                      20.1.0\r\n",
      "h5py                          3.4.0\r\n",
      "HeapDict                      1.0.1\r\n",
      "hydra-core                    1.1.1\r\n",
      "hydra-optuna-sweeper          1.1.1\r\n",
      "idna                          3.1\r\n",
      "imagecodecs                   2021.8.26\r\n",
      "imageio                       2.9.0\r\n",
      "imgaug                        0.4.0\r\n",
      "importlib-metadata            4.8.2\r\n",
      "importlib-resources           5.4.0\r\n",
      "ipykernel                     6.5.0\r\n",
      "ipympl                        0.8.2\r\n",
      "ipython                       7.29.0\r\n",
      "ipython-genutils              0.2.0\r\n",
      "ipywidgets                    7.6.5\r\n",
      "itsdangerous                  2.0.1\r\n",
      "jedi                          0.18.0\r\n",
      "Jinja2                        3.0.3\r\n",
      "joblib                        1.1.0\r\n",
      "json5                         0.9.5\r\n",
      "jsonschema                    4.2.1\r\n",
      "jupyter-client                7.0.6\r\n",
      "jupyter-core                  4.9.1\r\n",
      "jupyter-server                1.11.2\r\n",
      "jupyter-telemetry             0.1.0\r\n",
      "jupyterhub                    1.5.0\r\n",
      "jupyterlab                    3.2.3\r\n",
      "jupyterlab-pygments           0.1.2\r\n",
      "jupyterlab-server             2.8.2\r\n",
      "jupyterlab-widgets            1.0.2\r\n",
      "kiwisolver                    1.3.2\r\n",
      "llvmlite                      0.37.0\r\n",
      "locket                        0.2.0\r\n",
      "Mako                          1.1.5\r\n",
      "mamba                         0.17.0\r\n",
      "MarkupSafe                    2.0.1\r\n",
      "matplotlib                    3.4.3\r\n",
      "matplotlib-inline             0.1.3\r\n",
      "mistune                       0.8.4\r\n",
      "mlflow                        1.21.0\r\n",
      "mock                          4.0.3\r\n",
      "mpmath                        1.2.1\r\n",
      "msgpack                       1.0.2\r\n",
      "nbclassic                     0.3.4\r\n",
      "nbclient                      0.5.8\r\n",
      "nbconvert                     6.3.0\r\n",
      "nbformat                      5.1.3\r\n",
      "nest-asyncio                  1.5.1\r\n",
      "networkx                      2.6.3\r\n",
      "notebook                      6.4.5\r\n",
      "numba                         0.54.1\r\n",
      "numexpr                       2.7.3\r\n",
      "numpy                         1.20.3\r\n",
      "oauthlib                      3.1.1\r\n",
      "olefile                       0.46\r\n",
      "omegaconf                     2.1.1\r\n",
      "opencv-python                 4.5.4.60\r\n",
      "opencv-python-headless        4.5.4.60\r\n",
      "optuna                        2.10.0\r\n",
      "packaging                     21.2\r\n",
      "pamela                        1.0.0\r\n",
      "pandas                        1.3.4\r\n",
      "pandocfilters                 1.5.0\r\n",
      "parso                         0.8.2\r\n",
      "partd                         1.2.0\r\n",
      "pathtools                     0.1.2\r\n",
      "patsy                         0.5.2\r\n",
      "pbr                           5.8.0\r\n",
      "pexpect                       4.8.0\r\n",
      "pickleshare                   0.7.5\r\n",
      "Pillow                        8.4.0\r\n",
      "pip                           21.3.1\r\n",
      "pooch                         1.5.2\r\n",
      "prettytable                   2.4.0\r\n",
      "prometheus-client             0.12.0\r\n",
      "prometheus-flask-exporter     0.18.6\r\n",
      "promise                       2.3\r\n",
      "prompt-toolkit                3.0.22\r\n",
      "protobuf                      3.19.1\r\n",
      "psutil                        5.8.0\r\n",
      "ptyprocess                    0.7.0\r\n",
      "pycosat                       0.6.3\r\n",
      "pycparser                     2.21\r\n",
      "pycurl                        7.44.1\r\n",
      "Pygments                      2.10.0\r\n",
      "PyJWT                         2.3.0\r\n",
      "pyOpenSSL                     21.0.0\r\n",
      "pyparsing                     2.4.7\r\n",
      "pyperclip                     1.8.2\r\n",
      "pyrsistent                    0.18.0\r\n",
      "PySocks                       1.7.1\r\n",
      "python-dateutil               2.8.2\r\n",
      "python-editor                 1.0.4\r\n",
      "python-json-logger            2.0.1\r\n",
      "pytz                          2021.3\r\n",
      "PyWavelets                    1.2.0\r\n",
      "PyYAML                        6.0\r\n",
      "pyzmq                         22.3.0\r\n",
      "querystring-parser            1.2.4\r\n",
      "requests                      2.26.0\r\n",
      "ruamel.yaml                   0.17.17\r\n",
      "ruamel.yaml.clib              0.2.6\r\n",
      "ruamel-yaml-conda             0.15.80\r\n",
      "scikit-image                  0.18.3\r\n",
      "scikit-learn                  1.0.1\r\n",
      "scipy                         1.7.2\r\n",
      "seaborn                       0.11.2\r\n",
      "Send2Trash                    1.8.0\r\n",
      "sentry-sdk                    1.5.0\r\n",
      "setuptools                    59.1.1\r\n",
      "Shapely                       1.8.0\r\n",
      "shortuuid                     1.0.8\r\n",
      "six                           1.16.0\r\n",
      "smmap                         5.0.0\r\n",
      "sniffio                       1.2.0\r\n",
      "sortedcontainers              2.4.0\r\n",
      "soupsieve                     2.3\r\n",
      "SQLAlchemy                    1.4.27\r\n",
      "sqlparse                      0.4.2\r\n",
      "statsmodels                   0.13.1\r\n",
      "stevedore                     3.5.0\r\n",
      "subprocess32                  3.5.4\r\n",
      "sympy                         1.9\r\n",
      "tables                        3.6.1\r\n",
      "tabulate                      0.8.9\r\n",
      "tblib                         1.7.0\r\n",
      "termcolor                     1.1.0\r\n",
      "terminado                     0.12.1\r\n",
      "testpath                      0.5.0\r\n",
      "threadpoolctl                 3.0.0\r\n",
      "tifffile                      2021.11.2\r\n",
      "timm                          0.4.12\r\n",
      "toolz                         0.11.2\r\n",
      "torch                         1.10.0\r\n",
      "torchaudio                    0.10.0\r\n",
      "torchvision                   0.11.1\r\n",
      "tornado                       6.1\r\n",
      "tqdm                          4.62.3\r\n",
      "traitlets                     5.1.1\r\n",
      "typing-extensions             3.10.0.2\r\n",
      "urllib3                       1.26.7\r\n",
      "wandb                         0.12.7\r\n",
      "wcwidth                       0.2.5\r\n",
      "webencodings                  0.5.1\r\n",
      "websocket-client              1.2.1\r\n",
      "Werkzeug                      2.0.2\r\n",
      "wheel                         0.37.0\r\n",
      "widgetsnbextension            3.5.2\r\n",
      "xlrd                          2.0.1\r\n",
      "yaspin                        2.1.0\r\n",
      "zict                          2.0.0\r\n",
      "zipp                          3.6.0\r\n"
     ]
    }
   ],
   "source": [
    "!pip list"
   ]
  }
 ],
 "metadata": {
  "kernelspec": {
   "display_name": "Python 3 (ipykernel)",
   "language": "python",
   "name": "python3"
  },
  "language_info": {
   "codemirror_mode": {
    "name": "ipython",
    "version": 3
   },
   "file_extension": ".py",
   "mimetype": "text/x-python",
   "name": "python",
   "nbconvert_exporter": "python",
   "pygments_lexer": "ipython3",
   "version": "3.9.7"
  }
 },
 "nbformat": 4,
 "nbformat_minor": 5
}
